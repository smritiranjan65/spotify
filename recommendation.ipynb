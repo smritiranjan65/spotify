{
 "cells": [
  {
   "cell_type": "code",
   "execution_count": 1,
   "id": "cf40c637-5f19-49ad-ae71-c042e94938cd",
   "metadata": {},
   "outputs": [],
   "source": [
    "import pandas as pd"
   ]
  },
  {
   "cell_type": "code",
   "execution_count": 3,
   "id": "8b2a6471-d5c3-4489-9c1a-44c8b5c6c828",
   "metadata": {},
   "outputs": [],
   "source": [
    " df = pd.read_csv(\"spotify_millsongdata.csv\")"
   ]
  },
  {
   "cell_type": "code",
   "execution_count": 4,
   "id": "ca836216-e832-4f75-81c1-5f0445ed2530",
   "metadata": {},
   "outputs": [
    {
     "data": {
      "text/html": [
       "<div>\n",
       "<style scoped>\n",
       "    .dataframe tbody tr th:only-of-type {\n",
       "        vertical-align: middle;\n",
       "    }\n",
       "\n",
       "    .dataframe tbody tr th {\n",
       "        vertical-align: top;\n",
       "    }\n",
       "\n",
       "    .dataframe thead th {\n",
       "        text-align: right;\n",
       "    }\n",
       "</style>\n",
       "<table border=\"1\" class=\"dataframe\">\n",
       "  <thead>\n",
       "    <tr style=\"text-align: right;\">\n",
       "      <th></th>\n",
       "      <th>artist</th>\n",
       "      <th>song</th>\n",
       "      <th>link</th>\n",
       "      <th>text</th>\n",
       "    </tr>\n",
       "  </thead>\n",
       "  <tbody>\n",
       "    <tr>\n",
       "      <th>0</th>\n",
       "      <td>ABBA</td>\n",
       "      <td>Ahe's My Kind Of Girl</td>\n",
       "      <td>/a/abba/ahes+my+kind+of+girl_20598417.html</td>\n",
       "      <td>Look at her face, it's a wonderful face  \\r\\nA...</td>\n",
       "    </tr>\n",
       "    <tr>\n",
       "      <th>1</th>\n",
       "      <td>ABBA</td>\n",
       "      <td>Andante, Andante</td>\n",
       "      <td>/a/abba/andante+andante_20002708.html</td>\n",
       "      <td>Take it easy with me, please  \\r\\nTouch me gen...</td>\n",
       "    </tr>\n",
       "    <tr>\n",
       "      <th>2</th>\n",
       "      <td>ABBA</td>\n",
       "      <td>As Good As New</td>\n",
       "      <td>/a/abba/as+good+as+new_20003033.html</td>\n",
       "      <td>I'll never know why I had to go  \\r\\nWhy I had...</td>\n",
       "    </tr>\n",
       "    <tr>\n",
       "      <th>3</th>\n",
       "      <td>ABBA</td>\n",
       "      <td>Bang</td>\n",
       "      <td>/a/abba/bang_20598415.html</td>\n",
       "      <td>Making somebody happy is a question of give an...</td>\n",
       "    </tr>\n",
       "    <tr>\n",
       "      <th>4</th>\n",
       "      <td>ABBA</td>\n",
       "      <td>Bang-A-Boomerang</td>\n",
       "      <td>/a/abba/bang+a+boomerang_20002668.html</td>\n",
       "      <td>Making somebody happy is a question of give an...</td>\n",
       "    </tr>\n",
       "  </tbody>\n",
       "</table>\n",
       "</div>"
      ],
      "text/plain": [
       "  artist                   song                                        link  \\\n",
       "0   ABBA  Ahe's My Kind Of Girl  /a/abba/ahes+my+kind+of+girl_20598417.html   \n",
       "1   ABBA       Andante, Andante       /a/abba/andante+andante_20002708.html   \n",
       "2   ABBA         As Good As New        /a/abba/as+good+as+new_20003033.html   \n",
       "3   ABBA                   Bang                  /a/abba/bang_20598415.html   \n",
       "4   ABBA       Bang-A-Boomerang      /a/abba/bang+a+boomerang_20002668.html   \n",
       "\n",
       "                                                text  \n",
       "0  Look at her face, it's a wonderful face  \\r\\nA...  \n",
       "1  Take it easy with me, please  \\r\\nTouch me gen...  \n",
       "2  I'll never know why I had to go  \\r\\nWhy I had...  \n",
       "3  Making somebody happy is a question of give an...  \n",
       "4  Making somebody happy is a question of give an...  "
      ]
     },
     "execution_count": 4,
     "metadata": {},
     "output_type": "execute_result"
    }
   ],
   "source": [
    "df.head(5)"
   ]
  },
  {
   "cell_type": "code",
   "execution_count": 5,
   "id": "051e4087-2078-4eb5-b332-3c83eafffea8",
   "metadata": {},
   "outputs": [
    {
     "data": {
      "text/html": [
       "<div>\n",
       "<style scoped>\n",
       "    .dataframe tbody tr th:only-of-type {\n",
       "        vertical-align: middle;\n",
       "    }\n",
       "\n",
       "    .dataframe tbody tr th {\n",
       "        vertical-align: top;\n",
       "    }\n",
       "\n",
       "    .dataframe thead th {\n",
       "        text-align: right;\n",
       "    }\n",
       "</style>\n",
       "<table border=\"1\" class=\"dataframe\">\n",
       "  <thead>\n",
       "    <tr style=\"text-align: right;\">\n",
       "      <th></th>\n",
       "      <th>artist</th>\n",
       "      <th>song</th>\n",
       "      <th>link</th>\n",
       "      <th>text</th>\n",
       "    </tr>\n",
       "  </thead>\n",
       "  <tbody>\n",
       "    <tr>\n",
       "      <th>57645</th>\n",
       "      <td>Ziggy Marley</td>\n",
       "      <td>Good Old Days</td>\n",
       "      <td>/z/ziggy+marley/good+old+days_10198588.html</td>\n",
       "      <td>Irie days come on play  \\r\\nLet the angels fly...</td>\n",
       "    </tr>\n",
       "    <tr>\n",
       "      <th>57646</th>\n",
       "      <td>Ziggy Marley</td>\n",
       "      <td>Hand To Mouth</td>\n",
       "      <td>/z/ziggy+marley/hand+to+mouth_20531167.html</td>\n",
       "      <td>Power to the workers  \\r\\nMore power  \\r\\nPowe...</td>\n",
       "    </tr>\n",
       "    <tr>\n",
       "      <th>57647</th>\n",
       "      <td>Zwan</td>\n",
       "      <td>Come With Me</td>\n",
       "      <td>/z/zwan/come+with+me_20148981.html</td>\n",
       "      <td>all you need  \\r\\nis something i'll believe  \\...</td>\n",
       "    </tr>\n",
       "    <tr>\n",
       "      <th>57648</th>\n",
       "      <td>Zwan</td>\n",
       "      <td>Desire</td>\n",
       "      <td>/z/zwan/desire_20148986.html</td>\n",
       "      <td>northern star  \\r\\nam i frightened  \\r\\nwhere ...</td>\n",
       "    </tr>\n",
       "    <tr>\n",
       "      <th>57649</th>\n",
       "      <td>Zwan</td>\n",
       "      <td>Heartsong</td>\n",
       "      <td>/z/zwan/heartsong_20148991.html</td>\n",
       "      <td>come in  \\r\\nmake yourself at home  \\r\\ni'm a ...</td>\n",
       "    </tr>\n",
       "  </tbody>\n",
       "</table>\n",
       "</div>"
      ],
      "text/plain": [
       "             artist           song  \\\n",
       "57645  Ziggy Marley  Good Old Days   \n",
       "57646  Ziggy Marley  Hand To Mouth   \n",
       "57647          Zwan   Come With Me   \n",
       "57648          Zwan         Desire   \n",
       "57649          Zwan      Heartsong   \n",
       "\n",
       "                                              link  \\\n",
       "57645  /z/ziggy+marley/good+old+days_10198588.html   \n",
       "57646  /z/ziggy+marley/hand+to+mouth_20531167.html   \n",
       "57647           /z/zwan/come+with+me_20148981.html   \n",
       "57648                 /z/zwan/desire_20148986.html   \n",
       "57649              /z/zwan/heartsong_20148991.html   \n",
       "\n",
       "                                                    text  \n",
       "57645  Irie days come on play  \\r\\nLet the angels fly...  \n",
       "57646  Power to the workers  \\r\\nMore power  \\r\\nPowe...  \n",
       "57647  all you need  \\r\\nis something i'll believe  \\...  \n",
       "57648  northern star  \\r\\nam i frightened  \\r\\nwhere ...  \n",
       "57649  come in  \\r\\nmake yourself at home  \\r\\ni'm a ...  "
      ]
     },
     "execution_count": 5,
     "metadata": {},
     "output_type": "execute_result"
    }
   ],
   "source": [
    "df.tail(5)"
   ]
  },
  {
   "cell_type": "code",
   "execution_count": 6,
   "id": "0ed95106-0224-4f69-b806-4880c3b429f3",
   "metadata": {},
   "outputs": [
    {
     "data": {
      "text/plain": [
       "(57650, 4)"
      ]
     },
     "execution_count": 6,
     "metadata": {},
     "output_type": "execute_result"
    }
   ],
   "source": [
    "df.shape"
   ]
  },
  {
   "cell_type": "code",
   "execution_count": 7,
   "id": "53bbc114-04b6-4956-a21c-a38569341028",
   "metadata": {},
   "outputs": [
    {
     "data": {
      "text/plain": [
       "artist    0\n",
       "song      0\n",
       "link      0\n",
       "text      0\n",
       "dtype: int64"
      ]
     },
     "execution_count": 7,
     "metadata": {},
     "output_type": "execute_result"
    }
   ],
   "source": [
    "df.isnull().sum()"
   ]
  },
  {
   "cell_type": "code",
   "execution_count": 47,
   "id": "025bcc2a-5dcc-4dbb-9817-ef6a5468236c",
   "metadata": {},
   "outputs": [],
   "source": [
    "df = df.sample(5000).drop('link', axis=1).reset_index(drop=True)"
   ]
  },
  {
   "cell_type": "code",
   "execution_count": 48,
   "id": "83ab78d0-8d17-4ff2-ba5d-8292319226bf",
   "metadata": {},
   "outputs": [
    {
     "data": {
      "text/html": [
       "<div>\n",
       "<style scoped>\n",
       "    .dataframe tbody tr th:only-of-type {\n",
       "        vertical-align: middle;\n",
       "    }\n",
       "\n",
       "    .dataframe tbody tr th {\n",
       "        vertical-align: top;\n",
       "    }\n",
       "\n",
       "    .dataframe thead th {\n",
       "        text-align: right;\n",
       "    }\n",
       "</style>\n",
       "<table border=\"1\" class=\"dataframe\">\n",
       "  <thead>\n",
       "    <tr style=\"text-align: right;\">\n",
       "      <th></th>\n",
       "      <th>artist</th>\n",
       "      <th>song</th>\n",
       "      <th>text</th>\n",
       "    </tr>\n",
       "  </thead>\n",
       "  <tbody>\n",
       "    <tr>\n",
       "      <th>0</th>\n",
       "      <td>Hank Snow</td>\n",
       "      <td>I'll Not Forget My Mother's Prayer</td>\n",
       "      <td>I never shall forget the day  \\r\\nI heard my d...</td>\n",
       "    </tr>\n",
       "    <tr>\n",
       "      <th>1</th>\n",
       "      <td>Perry Como</td>\n",
       "      <td>Breezin' Along With The Breeze</td>\n",
       "      <td>I'm just breezin' along with the breeze,  \\r\\n...</td>\n",
       "    </tr>\n",
       "    <tr>\n",
       "      <th>2</th>\n",
       "      <td>Stevie Ray Vaughan</td>\n",
       "      <td>The Sky Is Crying</td>\n",
       "      <td>The sky is crying,  \\r\\nCan you see the tears ...</td>\n",
       "    </tr>\n",
       "    <tr>\n",
       "      <th>3</th>\n",
       "      <td>Jason Mraz</td>\n",
       "      <td>Out Of My Hands</td>\n",
       "      <td>You went walking away, into the sun  \\r\\nHow r...</td>\n",
       "    </tr>\n",
       "    <tr>\n",
       "      <th>4</th>\n",
       "      <td>Barbra Streisand</td>\n",
       "      <td>I've Got A Crush On You</td>\n",
       "      <td>[Frank:]  \\r\\nI've got a crush on you, sweetie...</td>\n",
       "    </tr>\n",
       "    <tr>\n",
       "      <th>5</th>\n",
       "      <td>Alabama</td>\n",
       "      <td>I Was Young Once Too</td>\n",
       "      <td>He raced that engine down the track  \\r\\n'Roun...</td>\n",
       "    </tr>\n",
       "    <tr>\n",
       "      <th>6</th>\n",
       "      <td>Bette Midler</td>\n",
       "      <td>I Don't Want The Night To End</td>\n",
       "      <td>And I don't want,  \\r\\nI, I don't want,  \\r\\nI...</td>\n",
       "    </tr>\n",
       "    <tr>\n",
       "      <th>7</th>\n",
       "      <td>Fatboy Slim</td>\n",
       "      <td>Fat Boy Slim - Right Here, Right Now</td>\n",
       "      <td>Right here, right now, right here, right now  ...</td>\n",
       "    </tr>\n",
       "    <tr>\n",
       "      <th>8</th>\n",
       "      <td>Bonnie Raitt</td>\n",
       "      <td>Give It Up Or Let Me Go</td>\n",
       "      <td>Well, I told you pretty baby, such a long time...</td>\n",
       "    </tr>\n",
       "    <tr>\n",
       "      <th>9</th>\n",
       "      <td>Tom Lehrer</td>\n",
       "      <td>Wernher Von Braun</td>\n",
       "      <td>And what is it that put America in the forefro...</td>\n",
       "    </tr>\n",
       "  </tbody>\n",
       "</table>\n",
       "</div>"
      ],
      "text/plain": [
       "               artist                                  song  \\\n",
       "0           Hank Snow    I'll Not Forget My Mother's Prayer   \n",
       "1          Perry Como        Breezin' Along With The Breeze   \n",
       "2  Stevie Ray Vaughan                     The Sky Is Crying   \n",
       "3          Jason Mraz                       Out Of My Hands   \n",
       "4    Barbra Streisand               I've Got A Crush On You   \n",
       "5             Alabama                  I Was Young Once Too   \n",
       "6        Bette Midler         I Don't Want The Night To End   \n",
       "7         Fatboy Slim  Fat Boy Slim - Right Here, Right Now   \n",
       "8        Bonnie Raitt               Give It Up Or Let Me Go   \n",
       "9          Tom Lehrer                     Wernher Von Braun   \n",
       "\n",
       "                                                text  \n",
       "0  I never shall forget the day  \\r\\nI heard my d...  \n",
       "1  I'm just breezin' along with the breeze,  \\r\\n...  \n",
       "2  The sky is crying,  \\r\\nCan you see the tears ...  \n",
       "3  You went walking away, into the sun  \\r\\nHow r...  \n",
       "4  [Frank:]  \\r\\nI've got a crush on you, sweetie...  \n",
       "5  He raced that engine down the track  \\r\\n'Roun...  \n",
       "6  And I don't want,  \\r\\nI, I don't want,  \\r\\nI...  \n",
       "7  Right here, right now, right here, right now  ...  \n",
       "8  Well, I told you pretty baby, such a long time...  \n",
       "9  And what is it that put America in the forefro...  "
      ]
     },
     "execution_count": 48,
     "metadata": {},
     "output_type": "execute_result"
    }
   ],
   "source": [
    "df.head(10)"
   ]
  },
  {
   "cell_type": "code",
   "execution_count": 49,
   "id": "fd0adba9-4460-48ec-8fb1-587fd303aa56",
   "metadata": {},
   "outputs": [
    {
     "data": {
      "text/plain": [
       "'I never shall forget the day  \\r\\nI heard my dear old mother say  \\r\\n\"I\\'m leaving now the old home dear,  \\r\\nremember Jack your mother\\'s prayer\".  \\r\\nShe left me as the golden sun  \\r\\nbehind the hill top it did hide,  \\r\\nAnd when I found that she had gone  \\r\\nI laid my guitar down and cried.  \\r\\n  \\r\\nCHORUS  \\r\\nAnd now she\\'s gone this world is drear,  \\r\\nI long to have dear mother here,  \\r\\nShe\\'s gone to join the angels there,  \\r\\nI\\'ll not forget my mother\\'s prayer.  \\r\\n  \\r\\nThe birds were still, no sound was made,  \\r\\nThe organ sad but sweetly played,  \\r\\nAs by her side we gathered there,  \\r\\nOur heads bowed down in silent prayer.  \\r\\nWe laid here where the fragrant rose  \\r\\nwas blooming o\\'er her lonely grave,  \\r\\nAnd now in answer to her prayer  \\r\\nI\\'ll meet dear mother some sweet day.  \\r\\n  \\r\\nCHORUS  \\r\\nAnd now she\\'s gone this world is drear,  \\r\\nI long to have dear mother here,  \\r\\nShe\\'s gone to join the angels there,  \\r\\nI\\'ll not forget my mother\\'s prayer\\r\\n\\r\\n'"
      ]
     },
     "execution_count": 49,
     "metadata": {},
     "output_type": "execute_result"
    }
   ],
   "source": [
    "df['text'][0]"
   ]
  },
  {
   "cell_type": "code",
   "execution_count": null,
   "id": "a6e34f2f-de3f-4130-b9af-dc8313c9a2e4",
   "metadata": {},
   "outputs": [],
   "source": []
  },
  {
   "cell_type": "code",
   "execution_count": 50,
   "id": "072de86e-2d1c-46a9-bd3c-df35df1e31d6",
   "metadata": {},
   "outputs": [
    {
     "data": {
      "text/plain": [
       "(5000, 3)"
      ]
     },
     "execution_count": 50,
     "metadata": {},
     "output_type": "execute_result"
    }
   ],
   "source": [
    "df.shape"
   ]
  },
  {
   "cell_type": "markdown",
   "id": "17688008-d9f2-4094-aec3-caff9d3e863b",
   "metadata": {},
   "source": [
    "Text Cleaning / Text Preprocessing"
   ]
  },
  {
   "cell_type": "code",
   "execution_count": 51,
   "id": "0540b94b-6715-493f-b534-b241777ff0bf",
   "metadata": {},
   "outputs": [
    {
     "data": {
      "text/plain": [
       "0       i never shall forget the day  \\ri heard my dea...\n",
       "1       i'm just breezin' along with the breeze,  \\rtr...\n",
       "2       the sky is crying,  \\rcan you see the tears ro...\n",
       "3       you went walking away, into the sun  \\rhow rom...\n",
       "4       [frank:]  \\ri've got a crush on you, sweetie p...\n",
       "                              ...                        \n",
       "4995    you haunt my room in the dead of night  \\ri se...\n",
       "4996    kids hanging out on a saturday night  \\rwaitin...\n",
       "4997    take a walk down memory lane with me  \\rpast a...\n",
       "4998    i am the voice  \\ri am the radio  \\ryou hear m...\n",
       "4999      \\rdarlin' don't you know i've had enough  \\r...\n",
       "Name: text, Length: 5000, dtype: object"
      ]
     },
     "execution_count": 51,
     "metadata": {},
     "output_type": "execute_result"
    }
   ],
   "source": [
    "df['text'].str.lower().replace(r'^\\w\\s', '').replace(r'\\n','', regex = True)"
   ]
  },
  {
   "cell_type": "code",
   "execution_count": 52,
   "id": "38a82fb1-5a74-4c3f-8f0e-ec0053872d3e",
   "metadata": {},
   "outputs": [
    {
     "data": {
      "text/html": [
       "<div>\n",
       "<style scoped>\n",
       "    .dataframe tbody tr th:only-of-type {\n",
       "        vertical-align: middle;\n",
       "    }\n",
       "\n",
       "    .dataframe tbody tr th {\n",
       "        vertical-align: top;\n",
       "    }\n",
       "\n",
       "    .dataframe thead th {\n",
       "        text-align: right;\n",
       "    }\n",
       "</style>\n",
       "<table border=\"1\" class=\"dataframe\">\n",
       "  <thead>\n",
       "    <tr style=\"text-align: right;\">\n",
       "      <th></th>\n",
       "      <th>artist</th>\n",
       "      <th>song</th>\n",
       "      <th>text</th>\n",
       "    </tr>\n",
       "  </thead>\n",
       "  <tbody>\n",
       "    <tr>\n",
       "      <th>4995</th>\n",
       "      <td>Heart</td>\n",
       "      <td>Voodoo Doll</td>\n",
       "      <td>You haunt my room in the dead of night  \\r\\nI ...</td>\n",
       "    </tr>\n",
       "    <tr>\n",
       "      <th>4996</th>\n",
       "      <td>Journey</td>\n",
       "      <td>Every Generation</td>\n",
       "      <td>Kids hanging out on a Saturday night  \\r\\nWait...</td>\n",
       "    </tr>\n",
       "    <tr>\n",
       "      <th>4997</th>\n",
       "      <td>Tori Amos</td>\n",
       "      <td>Martha's Foolish Ginger</td>\n",
       "      <td>Take a walk down memory lane with me  \\r\\nPast...</td>\n",
       "    </tr>\n",
       "    <tr>\n",
       "      <th>4998</th>\n",
       "      <td>Leo Sayer</td>\n",
       "      <td>World Radio</td>\n",
       "      <td>I am the voice  \\r\\nI am the radio  \\r\\nYou he...</td>\n",
       "    </tr>\n",
       "    <tr>\n",
       "      <th>4999</th>\n",
       "      <td>Kim Wilde</td>\n",
       "      <td>Hey Mister Heartache</td>\n",
       "      <td>\\r\\nDarlin' don't you know I've had enough  ...</td>\n",
       "    </tr>\n",
       "  </tbody>\n",
       "</table>\n",
       "</div>"
      ],
      "text/plain": [
       "         artist                     song  \\\n",
       "4995      Heart              Voodoo Doll   \n",
       "4996    Journey         Every Generation   \n",
       "4997  Tori Amos  Martha's Foolish Ginger   \n",
       "4998  Leo Sayer              World Radio   \n",
       "4999  Kim Wilde     Hey Mister Heartache   \n",
       "\n",
       "                                                   text  \n",
       "4995  You haunt my room in the dead of night  \\r\\nI ...  \n",
       "4996  Kids hanging out on a Saturday night  \\r\\nWait...  \n",
       "4997  Take a walk down memory lane with me  \\r\\nPast...  \n",
       "4998  I am the voice  \\r\\nI am the radio  \\r\\nYou he...  \n",
       "4999    \\r\\nDarlin' don't you know I've had enough  ...  "
      ]
     },
     "execution_count": 52,
     "metadata": {},
     "output_type": "execute_result"
    }
   ],
   "source": [
    "df.tail(5)"
   ]
  },
  {
   "cell_type": "code",
   "execution_count": 53,
   "id": "53883891-79b5-47dc-80c7-aa601490ac71",
   "metadata": {},
   "outputs": [],
   "source": [
    "import nltk\n",
    "from nltk.stem.porter import PorterStemmer"
   ]
  },
  {
   "cell_type": "code",
   "execution_count": 54,
   "id": "daa32f68-1e85-418f-a311-e1b64b762ab8",
   "metadata": {},
   "outputs": [],
   "source": [
    "stemmer = PorterStemmer()"
   ]
  },
  {
   "cell_type": "code",
   "execution_count": 55,
   "id": "009e895c-1f81-4ff1-baad-40427bebbf8c",
   "metadata": {},
   "outputs": [],
   "source": [
    "\n",
    "def token(txt):\n",
    "    token = nltk.word_tokenize(txt)\n",
    "    a = [stemmer.stem(w) for w in token]\n",
    "    return \" \".join(a)"
   ]
  },
  {
   "cell_type": "code",
   "execution_count": 56,
   "id": "2386fce1-9ea1-4229-a434-5701b240ad3d",
   "metadata": {},
   "outputs": [],
   "source": [
    "from sklearn.feature_extraction.text import TfidfVectorizer\n",
    "from sklearn.metrics.pairwise import cosine_similarity"
   ]
  },
  {
   "cell_type": "code",
   "execution_count": 57,
   "id": "2121543c-024f-4a07-aeb3-3d59ccae0a68",
   "metadata": {},
   "outputs": [],
   "source": [
    "tfid = TfidfVectorizer(analyzer='word', stop_words='english')"
   ]
  },
  {
   "cell_type": "code",
   "execution_count": 58,
   "id": "a35174db-4289-4229-a978-9e11599c261f",
   "metadata": {},
   "outputs": [],
   "source": [
    "Matrix = tfid.fit_transform(df['text'])"
   ]
  },
  {
   "cell_type": "code",
   "execution_count": 71,
   "id": "9531ab30-b48c-4a4f-9426-cd2a0c282856",
   "metadata": {},
   "outputs": [],
   "source": [
    "similarity = cosine_similarity(Matrix)"
   ]
  },
  {
   "cell_type": "code",
   "execution_count": 72,
   "id": "0f3f3d0a-03ca-4149-889b-a05fa2f7c159",
   "metadata": {},
   "outputs": [
    {
     "data": {
      "text/plain": [
       "array([1.        , 0.08371025, 0.        , ..., 0.01054936, 0.05793895,\n",
       "       0.00945697])"
      ]
     },
     "execution_count": 72,
     "metadata": {},
     "output_type": "execute_result"
    }
   ],
   "source": [
    "similarity[0]"
   ]
  },
  {
   "cell_type": "markdown",
   "id": "bc4d1c86-9ec5-46f6-ab74-f3348d8cb7c0",
   "metadata": {},
   "source": [
    "Recommender Function"
   ]
  },
  {
   "cell_type": "code",
   "execution_count": 73,
   "id": "ce370fcf-8515-4d86-971d-4517d9edde1d",
   "metadata": {},
   "outputs": [],
   "source": [
    "def recommender(song_name):\n",
    "    idx = df[df['song']==song_name].index[0]\n",
    "    distance = sorted(list(enumerate(similer[idx])), reverse=True, key = lambda x:x[1])\n",
    "    song = []\n",
    "    for s_id in distance[1:21]:\n",
    "        song.append(df.iloc[s_id[0]].song)\n",
    "    return song"
   ]
  },
  {
   "cell_type": "code",
   "execution_count": 74,
   "id": "913b2a2b-93ff-4fbd-b2b7-c7efcf9f0f57",
   "metadata": {},
   "outputs": [
    {
     "data": {
      "text/plain": [
       "['Under My Voodoo',\n",
       " 'Strange Voodoo',\n",
       " 'Baby Doll',\n",
       " \"I Won't Back Down\",\n",
       " 'Permanent December',\n",
       " \"I Won't Back Down\",\n",
       " 'Take Me Back Again',\n",
       " 'Even In The Quietest Moments',\n",
       " 'Blood Red Skies',\n",
       " 'Satin Doll',\n",
       " \"I Won't Mind\",\n",
       " \"I Can't Make You Love Me\",\n",
       " \"Love Won't Wait\",\n",
       " 'Like I Would',\n",
       " \"Let Me Go Rock 'n' Roll\",\n",
       " 'Mississippi Delta City Blues',\n",
       " 'Heaven Can Wait',\n",
       " 'Stay',\n",
       " 'The Last Love Song',\n",
       " 'Beg For Me']"
      ]
     },
     "execution_count": 74,
     "metadata": {},
     "output_type": "execute_result"
    }
   ],
   "source": [
    "recommender(\"Voodoo Doll\")"
   ]
  },
  {
   "cell_type": "code",
   "execution_count": 75,
   "id": "142a0a16-3d5e-4520-b120-bf9c2161eba6",
   "metadata": {},
   "outputs": [],
   "source": [
    "import pickle"
   ]
  },
  {
   "cell_type": "code",
   "execution_count": 76,
   "id": "939f0412-824d-4c6a-8a87-361489179fd4",
   "metadata": {},
   "outputs": [],
   "source": [
    "pickle.dump(similer, open(\"similarity\", \"wb\"))"
   ]
  },
  {
   "cell_type": "code",
   "execution_count": 77,
   "id": "ba0df707-2f63-4912-9e24-be6ab5f45c9e",
   "metadata": {},
   "outputs": [],
   "source": [
    "pickle.dump(df, open(\"df\", \"wb\"))"
   ]
  },
  {
   "cell_type": "code",
   "execution_count": 78,
   "id": "0ceebea5-2058-49b3-9c82-f08133f19132",
   "metadata": {},
   "outputs": [],
   "source": [
    "import pickle\n",
    "pickle.dump(similarity,open('similarity.pkl','wb'))\n",
    "pickle.dump(df,open('df.pkl','wb'))"
   ]
  },
  {
   "cell_type": "code",
   "execution_count": null,
   "id": "1c847e9f-0435-41b6-9a7f-5bbe985ea79b",
   "metadata": {},
   "outputs": [],
   "source": []
  }
 ],
 "metadata": {
  "kernelspec": {
   "display_name": "Python 3 (ipykernel)",
   "language": "python",
   "name": "python3"
  },
  "language_info": {
   "codemirror_mode": {
    "name": "ipython",
    "version": 3
   },
   "file_extension": ".py",
   "mimetype": "text/x-python",
   "name": "python",
   "nbconvert_exporter": "python",
   "pygments_lexer": "ipython3",
   "version": "3.11.5"
  }
 },
 "nbformat": 4,
 "nbformat_minor": 5
}
